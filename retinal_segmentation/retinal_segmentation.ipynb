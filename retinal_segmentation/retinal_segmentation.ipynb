{
 "cells": [
  {
   "cell_type": "markdown",
   "metadata": {
    "collapsed": true,
    "pycharm": {
     "name": "#%% md\n"
    }
   },
   "source": [
    "# Retinal Segmentation"
   ]
  },
  {
   "cell_type": "markdown",
   "source": [
    "Project was implemented with three approaches: classic image processing techniques, a basic level classifier and a deep learning network."
   ],
   "metadata": {
    "collapsed": false,
    "pycharm": {
     "name": "#%% md\n"
    }
   }
  },
  {
   "cell_type": "markdown",
   "source": [
    "## Classical image processing techniques"
   ],
   "metadata": {
    "collapsed": false,
    "pycharm": {
     "name": "#%% md\n"
    }
   }
  },
  {
   "cell_type": "markdown",
   "source": [
    "Opis podejścia"
   ],
   "metadata": {
    "collapsed": false,
    "pycharm": {
     "name": "#%% md\n"
    }
   }
  },
  {
   "cell_type": "markdown",
   "source": [
    "## Basic level classifier"
   ],
   "metadata": {
    "collapsed": false,
    "pycharm": {
     "name": "#%% md\n"
    }
   }
  },
  {
   "cell_type": "markdown",
   "source": [
    "Opis podejścia"
   ],
   "metadata": {
    "collapsed": false,
    "pycharm": {
     "name": "#%% md\n"
    }
   }
  },
  {
   "cell_type": "code",
   "execution_count": 2,
   "outputs": [],
   "source": [
    "import os\n",
    "from retinal_segmentation.basic_level_classifier.knn import \\\n",
    "    load_sliced_images, get_input_features, get_target_vals, \\\n",
    "    slice_image, init_knn_classifier\n",
    "from retinal_segmentation.utils.data_loader import get_image_paths, load_image\n",
    "from sklearn.model_selection import train_test_split\n",
    "from retinal_segmentation.basic_level_classifier import \\\n",
    "    feature_extraction as ft_ext\n",
    "from scipy.stats import gmean\n",
    "import numpy as np\n",
    "import matplotlib.pyplot as plt\n"
   ],
   "metadata": {
    "collapsed": false,
    "pycharm": {
     "name": "#%%\n"
    }
   }
  },
  {
   "cell_type": "code",
   "execution_count": 3,
   "outputs": [],
   "source": [
    "data_dir, target_dir = \\\n",
    "        f\"{os.getcwd()}\\\\resource\\\\images\", \\\n",
    "        f\"{os.getcwd()}\\\\resource\\\\labels\"\n",
    "slice_size = 15\n",
    "\n",
    "data_images, target_images = load_sliced_images(data_dir, target_dir, slice_size=slice_size)\n",
    "\n",
    "# classifier = init_knn_classifier(train_data, train_target)"
   ],
   "metadata": {
    "collapsed": false,
    "pycharm": {
     "name": "#%%\n"
    }
   }
  },
  {
   "cell_type": "code",
   "execution_count": 4,
   "outputs": [],
   "source": [
    "train_data_images, test_data_images, train_target_images, test_target_images = \\\n",
    "        train_test_split(data_images, target_images, test_size=0.3, random_state=42)"
   ],
   "metadata": {
    "collapsed": false,
    "pycharm": {
     "name": "#%%\n"
    }
   }
  },
  {
   "cell_type": "code",
   "execution_count": 5,
   "outputs": [],
   "source": [
    "train_data, train_target = get_input_features(train_data_images), get_target_vals(train_target_images)\n",
    "test_data, test_target = get_input_features(test_data_images), get_target_vals(test_target_images)\n"
   ],
   "metadata": {
    "collapsed": false,
    "pycharm": {
     "name": "#%%\n"
    }
   }
  },
  {
   "cell_type": "code",
   "execution_count": 10,
   "outputs": [
    {
     "data": {
      "text/plain": "<matplotlib.image.AxesImage at 0x2570cf7bdc8>"
     },
     "execution_count": 10,
     "metadata": {},
     "output_type": "execute_result"
    },
    {
     "data": {
      "text/plain": "<Figure size 432x288 with 1 Axes>",
      "image/png": "[encoded data removed]"
     },
     "metadata": {
      "needs_background": "light"
     },
     "output_type": "display_data"
    }
   ],
   "source": [
    "plt.imshow(train_data_images[1])"
   ],
   "metadata": {
    "collapsed": false,
    "pycharm": {
     "name": "#%%\n"
    }
   }
  },
  {
   "cell_type": "code",
   "execution_count": 9,
   "outputs": [
    {
     "data": {
      "text/plain": "<matplotlib.image.AxesImage at 0x2570cec5448>"
     },
     "execution_count": 9,
     "metadata": {},
     "output_type": "execute_result"
    },
    {
     "data": {
      "text/plain": "<Figure size 432x288 with 1 Axes>",
      "image/png": "[encoded data removed]"
     },
     "metadata": {
      "needs_background": "light"
     },
     "output_type": "display_data"
    }
   ],
   "source": [
    "plt.imshow(train_target_images[1], cmap='gray')"
   ],
   "metadata": {
    "collapsed": false,
    "pycharm": {
     "name": "#%%\n"
    }
   }
  },
  {
   "cell_type": "code",
   "execution_count": 8,
   "outputs": [
    {
     "data": {
      "text/plain": "array([0.43419843, 0.43422824, 0.44428157, 0.44316549, 0.44597098,\n       0.45605412, 0.46054118, 0.46001333, 0.46142   , 0.46727608,\n       0.47036431, 0.47624314, 0.47457647, 0.48044745, 0.47260431,\n       0.43393059, 0.44568824, 0.45436471, 0.44822588, 0.45605412,\n       0.46054902, 0.46616   , 0.46645765, 0.47121255, 0.48408627,\n       0.48662392, 0.48380353, 0.4899651 , 0.49527059, 0.49079843,\n       0.45017529, 0.45802627, 0.46304902, 0.46897255, 0.4756698 ,\n       0.4854851 , 0.47460627, 0.47937608, 0.48693647, 0.49081333,\n       0.49919216, 0.48744235, 0.49724275, 0.49443725, 0.49219725,\n       0.45661961, 0.4616651 , 0.46727608, 0.47707647, 0.49668431,\n       0.49445922, 0.483     , 0.49195216, 0.49838157, 0.49363373,\n       0.50399961, 0.49809098, 0.50144706, 0.4969749 , 0.49250275,\n       0.46333176, 0.46613725, 0.48717451, 0.48994235, 0.49531529,\n       0.50007804, 0.49222   , 0.49700471, 0.49896196, 0.50512353,\n       0.50398471, 0.50033098, 0.51460353, 0.50257804, 0.48745725,\n       0.48602078, 0.47229882, 0.49192941, 0.49443725, 0.50398471,\n       0.50344902, 0.50371686, 0.50094118, 0.50091137, 0.50314353,\n       0.50064353, 0.51097961, 0.51516902, 0.49360392, 0.48183137,\n       0.4779098 , 0.4756698 , 0.49026275, 0.49530824, 0.50790627,\n       0.51126235, 0.51659059, 0.52028118, 0.50256314, 0.52191098,\n       0.51069686, 0.51714118, 0.51740902, 0.49109608, 0.47988196,\n       0.49893922, 0.48858824, 0.4969749 , 0.50707294, 0.5160251 ,\n       0.51662039, 0.5137851 , 0.51293686, 0.51912824, 0.5207949 ,\n       0.51491608, 0.52133059, 0.52133059, 0.48605843, 0.49890941,\n       0.50762353, 0.49338863, 0.49527059, 0.51380706, 0.52219373,\n       0.51268392, 0.5020502 , 0.51997647, 0.52021451, 0.51797451,\n       0.5162851 , 0.52832549, 0.50927529, 0.51096471, 0.50535373,\n       0.50622471, 0.50316627, 0.50201255, 0.51211843, 0.52109255,\n       0.51884549, 0.51296667, 0.51575725, 0.51014627, 0.51827216,\n       0.5255349 , 0.52104784, 0.49919216, 0.52383059, 0.51600235,\n       0.51268392, 0.51213333, 0.50089647, 0.50118706, 0.5115898 ,\n       0.51241608, 0.51717098, 0.51016118, 0.51772157, 0.51461843,\n       0.51825725, 0.51179804, 0.51208078, 0.52299725, 0.52468667,\n       0.51324941, 0.52444157, 0.51071176, 0.50961059, 0.52055686,\n       0.5283851 , 0.51967882, 0.51545176, 0.51769176, 0.52162824,\n       0.51264627, 0.50899255, 0.51460353, 0.51907569, 0.51824235,\n       0.50763137, 0.51717882, 0.50595686, 0.53287216, 0.53087804,\n       0.53451686, 0.52948627, 0.52051922, 0.52496941, 0.51797451,\n       0.51013137, 0.50254824, 0.51543686, 0.5162702 , 0.52718667,\n       0.51716392, 0.51295176, 0.50762353, 0.52415098, 0.53706941,\n       0.52918863, 0.52807255, 0.51825725, 0.52272941, 0.52468667,\n       0.51964118, 0.51263137, 0.5140302 , 0.52271451, 0.52438118,\n       0.53340784, 0.51967882, 0.51460353, 0.5252749 , 0.53393647,\n       0.53196431, 0.53509725, 0.53060235, 0.53450902, 0.52944157,\n       0.52663608, 0.52271451, 0.51543686, 0.52354784, 0.52802   ])"
     },
     "execution_count": 8,
     "metadata": {},
     "output_type": "execute_result"
    }
   ],
   "source": [
    "train_data[0]"
   ],
   "metadata": {
    "collapsed": false,
    "pycharm": {
     "name": "#%%\n"
    }
   }
  },
  {
   "cell_type": "code",
   "execution_count": null,
   "outputs": [],
   "source": [
    "train_data[1].shape"
   ],
   "metadata": {
    "collapsed": false,
    "pycharm": {
     "name": "#%%\n"
    }
   }
  },
  {
   "cell_type": "code",
   "execution_count": 9,
   "outputs": [
    {
     "data": {
      "text/plain": "(819896, 225)"
     },
     "execution_count": 9,
     "metadata": {},
     "output_type": "execute_result"
    }
   ],
   "source": [
    "train_data.shape"
   ],
   "metadata": {
    "collapsed": false,
    "pycharm": {
     "name": "#%%\n"
    }
   }
  },
  {
   "cell_type": "code",
   "execution_count": 10,
   "outputs": [],
   "source": [
    "# np.stack(np.asarray(train_data), axis=1)[0].shape"
   ],
   "metadata": {
    "collapsed": false,
    "pycharm": {
     "name": "#%%\n"
    }
   }
  },
  {
   "cell_type": "code",
   "execution_count": 11,
   "outputs": [],
   "source": [
    "classifier = init_knn_classifier(train_data, train_target)"
   ],
   "metadata": {
    "collapsed": false,
    "pycharm": {
     "name": "#%%\n"
    }
   }
  },
  {
   "cell_type": "code",
   "execution_count": 12,
   "outputs": [],
   "source": [
    "j = 3000\n",
    "predictions = classifier.predict(test_data[0:j])"
   ],
   "metadata": {
    "collapsed": false,
    "pycharm": {
     "name": "#%%\n"
    }
   }
  },
  {
   "cell_type": "code",
   "execution_count": 13,
   "outputs": [
    {
     "name": "stdout",
     "output_type": "stream",
     "text": [
      "Accuracy: 0.9516666666666667\n",
      "Sensitivity: 0.5969696969696969\n",
      "Specificity: 0.9955056179775281\n",
      "Geometric: 0.7708999202851663\n"
     ]
    }
   ],
   "source": [
    "\n",
    "\n",
    "tp, fp, fn, tn = 0, 0, 0, 0\n",
    "for pred, targ in zip(predictions, test_target[:j]):\n",
    "    if pred:\n",
    "        if targ:\n",
    "            tp += 1\n",
    "        else:\n",
    "            fp += 1\n",
    "    else:\n",
    "        if targ:\n",
    "            fn += 1\n",
    "        else:\n",
    "            tn += 1\n",
    "\n",
    "accuracy = (tp + tn) / (tn + fn + tp + fp)\n",
    "sensitivity = tp / (tp + fn)\n",
    "specificity = tn / (fp + tn)\n",
    "geometric = float(gmean([sensitivity, specificity]))\n",
    "\n",
    "stats = [accuracy, sensitivity, specificity, geometric]\n",
    "\n",
    "stat_names = ['Accuracy', 'Sensitivity', 'Specificity', 'Geometric']\n",
    "for i, name in enumerate(stat_names):\n",
    "    print(f\"{name}: {stats[i]}\")"
   ],
   "metadata": {
    "collapsed": false,
    "pycharm": {
     "name": "#%%\n"
    }
   }
  },
  {
   "cell_type": "code",
   "execution_count": 14,
   "outputs": [
    {
     "name": "stdout",
     "output_type": "stream",
     "text": [
      "1.0\n"
     ]
    },
    {
     "data": {
      "text/plain": "<matplotlib.image.AxesImage at 0x29534a070d0>"
     },
     "execution_count": 14,
     "metadata": {},
     "output_type": "execute_result"
    },
    {
     "data": {
      "text/plain": "<Figure size 432x288 with 1 Axes>",
      "image/png": "[encoded data removed]"
     },
     "metadata": {
      "needs_background": "light"
     },
     "output_type": "display_data"
    }
   ],
   "source": [
    "j, s = 0, 0\n",
    "shift = 33\n",
    "while predictions[j] != 1 or s < shift:\n",
    "    j += 1\n",
    "    s += 1\n",
    "\n",
    "img = test_data[j]\n",
    "m = np.sqrt(img.size).astype('int32')\n",
    "img = img.reshape((m, m))\n",
    "print(predictions[j])\n",
    "plt.imshow(img)"
   ],
   "metadata": {
    "collapsed": false,
    "pycharm": {
     "name": "#%%\n"
    }
   }
  },
  {
   "cell_type": "markdown",
   "source": [
    "Próba utworzenia maski"
   ],
   "metadata": {
    "collapsed": false,
    "pycharm": {
     "name": "#%% md\n"
    }
   }
  },
  {
   "cell_type": "code",
   "execution_count": 15,
   "outputs": [],
   "source": [
    "i = 7\n",
    "input_img = np.asarray(load_image(get_image_paths(data_dir)[i]))\n",
    "input_slices = get_input_features(data_images[256*256*(i-1):256*256*i])\n",
    "target_img = np.asarray(load_image(get_image_paths(target_dir)[i]))\n",
    "\n",
    "predicted_vector = classifier.predict(input_slices)"
   ],
   "metadata": {
    "collapsed": false,
    "pycharm": {
     "name": "#%%\n"
    }
   }
  },
  {
   "cell_type": "code",
   "execution_count": 16,
   "outputs": [
    {
     "data": {
      "text/plain": "5657.0"
     },
     "execution_count": 16,
     "metadata": {},
     "output_type": "execute_result"
    }
   ],
   "source": [
    "np.sum(predicted_vector)"
   ],
   "metadata": {
    "collapsed": false,
    "pycharm": {
     "name": "#%%\n"
    }
   }
  },
  {
   "cell_type": "code",
   "execution_count": 17,
   "outputs": [
    {
     "data": {
      "text/plain": "(65536,)"
     },
     "execution_count": 17,
     "metadata": {},
     "output_type": "execute_result"
    }
   ],
   "source": [
    "predicted_vector.shape"
   ],
   "metadata": {
    "collapsed": false,
    "pycharm": {
     "name": "#%%\n"
    }
   }
  },
  {
   "cell_type": "code",
   "execution_count": 18,
   "outputs": [
    {
     "data": {
      "text/plain": "<matplotlib.image.AxesImage at 0x295aa1ca700>"
     },
     "execution_count": 18,
     "metadata": {},
     "output_type": "execute_result"
    },
    {
     "data": {
      "text/plain": "<Figure size 432x288 with 1 Axes>",
      "image/png": "[encoded data removed]"
     },
     "metadata": {
      "needs_background": "light"
     },
     "output_type": "display_data"
    }
   ],
   "source": [
    "m = 256\n",
    "predicted_image = np.zeros((m, m))\n",
    "\n",
    "i = 0\n",
    "for x in range(m - slice_size + 1):\n",
    "    for y in range(m - slice_size + 1):\n",
    "        predicted_image[x, y] = predicted_vector[i]\n",
    "        i += 1\n",
    "plt.imshow(predicted_image, cmap=\"gray\")"
   ],
   "metadata": {
    "collapsed": false,
    "pycharm": {
     "name": "#%%\n"
    }
   }
  },
  {
   "cell_type": "code",
   "execution_count": 20,
   "outputs": [],
   "source": [
    "# def foo(image: np.ndarray, slice_size: int):\n",
    "#     width, height = image.shape[0], image.shape[1]\n",
    "#\n",
    "#     new_width, new_height = width+slice_size*2, height+slice_size*2\n",
    "#     new_img = np.zeros((new_width, new_height))\n",
    "#\n",
    "#     new_img[slice_size:-slice_size, slice_size:-slice_size] = image\n",
    "#\n",
    "#     slices = []\n",
    "#     for i in range(slice_size - 1, height - slice_size + 1):\n",
    "#         for j in range(slice_size - 1, width - slice_size + 1):\n",
    "#             slices.append(image[i:i+slice_size, j:j+slice_size])\n",
    "#\n",
    "#     return slices"
   ],
   "metadata": {
    "collapsed": false,
    "pycharm": {
     "name": "#%%\n"
    }
   }
  },
  {
   "cell_type": "code",
   "execution_count": 21,
   "outputs": [],
   "source": [
    "# plt.imshow(foo(cv2.resize(target_img, (256, 256)), slice_size))"
   ],
   "metadata": {
    "collapsed": false,
    "pycharm": {
     "name": "#%%\n"
    }
   }
  },
  {
   "cell_type": "code",
   "execution_count": 22,
   "outputs": [
    {
     "name": "stdout",
     "output_type": "stream",
     "text": [
      "(351384, 225)\n"
     ]
    }
   ],
   "source": [
    "train_data_images[0].shape\n",
    "features = [ft_ext.get_features(image) for image in test_data_images]\n",
    "# features = np.stack(np.asarray(features), axis=0)\n",
    "print(np.array(features).shape)\n"
   ],
   "metadata": {
    "collapsed": false,
    "pycharm": {
     "name": "#%%\n"
    }
   }
  },
  {
   "cell_type": "code",
   "execution_count": 23,
   "outputs": [
    {
     "data": {
      "text/plain": "(351384, 225)"
     },
     "execution_count": 23,
     "metadata": {},
     "output_type": "execute_result"
    }
   ],
   "source": [
    "np.array(features).shape"
   ],
   "metadata": {
    "collapsed": false,
    "pycharm": {
     "name": "#%%\n"
    }
   }
  },
  {
   "cell_type": "code",
   "execution_count": 24,
   "outputs": [],
   "source": [
    "# print(features)"
   ],
   "metadata": {
    "collapsed": false,
    "pycharm": {
     "name": "#%%\n"
    }
   }
  },
  {
   "cell_type": "code",
   "execution_count": 25,
   "outputs": [],
   "source": [
    "# np.array(features)"
   ],
   "metadata": {
    "collapsed": false,
    "pycharm": {
     "name": "#%%\n"
    }
   }
  },
  {
   "cell_type": "code",
   "execution_count": 26,
   "outputs": [],
   "source": [
    "# len(features[0])"
   ],
   "metadata": {
    "collapsed": false,
    "pycharm": {
     "name": "#%%\n"
    }
   }
  },
  {
   "cell_type": "code",
   "execution_count": 27,
   "outputs": [],
   "source": [
    "# features[0]"
   ],
   "metadata": {
    "collapsed": false,
    "pycharm": {
     "name": "#%%\n"
    }
   }
  },
  {
   "cell_type": "code",
   "execution_count": 28,
   "outputs": [],
   "source": [
    "# len(features[0])"
   ],
   "metadata": {
    "collapsed": false,
    "pycharm": {
     "name": "#%%\n"
    }
   }
  },
  {
   "cell_type": "code",
   "execution_count": 29,
   "outputs": [],
   "source": [
    "# def get_input_features_2(data_images: list) -> np.ndarray:\n",
    "#     features = [ft_ext.get_features(image) for image in data_images]\n",
    "#     features = np.stack(np.asarray(features), axis=1)[0]\n",
    "#     # features.reshape(len(data_images), features.shape[2])\n",
    "#     return features"
   ],
   "metadata": {
    "collapsed": false,
    "pycharm": {
     "name": "#%%\n"
    }
   }
  },
  {
   "cell_type": "code",
   "execution_count": 29,
   "outputs": [],
   "source": [],
   "metadata": {
    "collapsed": false,
    "pycharm": {
     "name": "#%%\n"
    }
   }
  },
  {
   "cell_type": "code",
   "execution_count": 30,
   "outputs": [],
   "source": [
    "# train_data= get_input_features_2(train_data_images)\n"
   ],
   "metadata": {
    "collapsed": false,
    "pycharm": {
     "name": "#%%\n"
    }
   }
  },
  {
   "cell_type": "markdown",
   "source": [],
   "metadata": {
    "collapsed": false,
    "pycharm": {
     "name": "#%% md\n"
    }
   }
  },
  {
   "cell_type": "code",
   "execution_count": 31,
   "outputs": [
    {
     "data": {
      "text/plain": "(1, 225)"
     },
     "execution_count": 31,
     "metadata": {},
     "output_type": "execute_result"
    }
   ],
   "source": [
    "get_input_features([data_images[33]]).shape"
   ],
   "metadata": {
    "collapsed": false,
    "pycharm": {
     "name": "#%%\n"
    }
   }
  },
  {
   "cell_type": "markdown",
   "source": [
    "Opis podejścia"
   ],
   "metadata": {
    "collapsed": false,
    "pycharm": {
     "name": "#%% md\n"
    }
   }
  }
 ],
 "metadata": {
  "kernelspec": {
   "display_name": "Python 3",
   "language": "python",
   "name": "python3"
  },
  "language_info": {
   "codemirror_mode": {
    "name": "ipython",
    "version": 2
   },
   "file_extension": ".py",
   "mimetype": "text/x-python",
   "name": "python",
   "nbconvert_exporter": "python",
   "pygments_lexer": "ipython2",
   "version": "2.7.6"
  }
 },
 "nbformat": 4,
 "nbformat_minor": 0
}