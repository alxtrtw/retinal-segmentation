{
 "cells": [
  {
   "cell_type": "markdown",
   "metadata": {
    "collapsed": true,
    "pycharm": {
     "name": "#%% md\n"
    }
   },
   "source": [
    "# Retinal Segmentation"
   ]
  },
  {
   "cell_type": "markdown",
   "source": [
    "Project was implemented with three approaches: classic image processing techniques, a basic level classifier and a deep learning network."
   ],
   "metadata": {
    "collapsed": false,
    "pycharm": {
     "name": "#%% md\n"
    }
   }
  },
  {
   "cell_type": "markdown",
   "source": [
    "## Classical image processing techniques"
   ],
   "metadata": {
    "collapsed": false,
    "pycharm": {
     "name": "#%% md\n"
    }
   }
  },
  {
   "cell_type": "markdown",
   "source": [
    "Opis podejścia"
   ],
   "metadata": {
    "collapsed": false,
    "pycharm": {
     "name": "#%% md\n"
    }
   }
  },
  {
   "cell_type": "markdown",
   "source": [
    "## Basic level classifier"
   ],
   "metadata": {
    "collapsed": false,
    "pycharm": {
     "name": "#%% md\n"
    }
   }
  },
  {
   "cell_type": "markdown",
   "source": [
    "Opis podejścia"
   ],
   "metadata": {
    "collapsed": false,
    "pycharm": {
     "name": "#%% md\n"
    }
   }
  },
  {
   "cell_type": "code",
   "execution_count": 2,
   "outputs": [],
   "source": [
    "import os\n",
    "from retinal_segmentation.basic_level_classifier.knn import \\\n",
    "    load_sliced_images, get_input_features, get_target_vals, \\\n",
    "    slice_image, init_knn_classifier\n",
    "from retinal_segmentation.utils.data_loader import get_image_paths, load_image\n",
    "from sklearn.model_selection import train_test_split\n",
    "from retinal_segmentation.basic_level_classifier import \\\n",
    "    feature_extraction as ft_ext\n",
    "from scipy.stats import gmean\n",
    "import numpy as np\n",
    "import matplotlib.pyplot as plt\n"
   ],
   "metadata": {
    "collapsed": false,
    "pycharm": {
     "name": "#%%\n"
    }
   }
  },
  {
   "cell_type": "code",
   "execution_count": 3,
   "outputs": [],
   "source": [
    "data_dir, target_dir = \\\n",
    "        f\"{os.getcwd()}\\\\resource\\\\images\", \\\n",
    "        f\"{os.getcwd()}\\\\resource\\\\labels\"\n",
    "slice_size = 15\n",
    "\n",
    "data_images, target_images = load_sliced_images(data_dir, target_dir, slice_size=slice_size)\n",
    "\n",
    "# classifier = init_knn_classifier(train_data, train_target)"
   ],
   "metadata": {
    "collapsed": false,
    "pycharm": {
     "name": "#%%\n"
    }
   }
  },
  {
   "cell_type": "code",
   "execution_count": 4,
   "outputs": [],
   "source": [
    "# data, target = get_input_features(data_images), get_target_vals(target_images)\n",
    "# train_data, test_data, train_target, test_target = \\\n",
    "#         train_test_split(data, target, test_size=0.3, random_state=42)"
   ],
   "metadata": {
    "collapsed": false,
    "pycharm": {
     "name": "#%%\n"
    }
   }
  },
  {
   "cell_type": "code",
   "execution_count": 5,
   "outputs": [],
   "source": [
    "train_data_images, test_data_images, train_target_images, test_target_images = \\\n",
    "        train_test_split(data_images, target_images, test_size=0.3, random_state=42)"
   ],
   "metadata": {
    "collapsed": false,
    "pycharm": {
     "name": "#%%\n"
    }
   }
  },
  {
   "cell_type": "code",
   "execution_count": 6,
   "outputs": [],
   "source": [
    "# plt.imshow(test_data_images[0])\n",
    "# plt.imshow(test_target_images[0])"
   ],
   "metadata": {
    "collapsed": false,
    "pycharm": {
     "name": "#%%\n"
    }
   }
  },
  {
   "cell_type": "code",
   "execution_count": 7,
   "outputs": [],
   "source": [
    "train_data, train_target = get_input_features(train_data_images), get_target_vals(train_target_images)\n",
    "test_data, test_target = get_input_features(test_data_images), get_target_vals(test_target_images)\n"
   ],
   "metadata": {
    "collapsed": false,
    "pycharm": {
     "name": "#%%\n"
    }
   }
  },
  {
   "cell_type": "code",
   "execution_count": 8,
   "outputs": [
    {
     "data": {
      "text/plain": "(225,)"
     },
     "execution_count": 8,
     "metadata": {},
     "output_type": "execute_result"
    }
   ],
   "source": [
    "train_data[1].shape"
   ],
   "metadata": {
    "collapsed": false,
    "pycharm": {
     "name": "#%%\n"
    }
   }
  },
  {
   "cell_type": "code",
   "execution_count": 9,
   "outputs": [
    {
     "data": {
      "text/plain": "(819896, 225)"
     },
     "execution_count": 9,
     "metadata": {},
     "output_type": "execute_result"
    }
   ],
   "source": [
    "train_data.shape"
   ],
   "metadata": {
    "collapsed": false,
    "pycharm": {
     "name": "#%%\n"
    }
   }
  },
  {
   "cell_type": "code",
   "execution_count": 10,
   "outputs": [],
   "source": [
    "# np.stack(np.asarray(train_data), axis=1)[0].shape"
   ],
   "metadata": {
    "collapsed": false,
    "pycharm": {
     "name": "#%%\n"
    }
   }
  },
  {
   "cell_type": "code",
   "execution_count": 11,
   "outputs": [],
   "source": [
    "classifier = init_knn_classifier(train_data, train_target)"
   ],
   "metadata": {
    "collapsed": false,
    "pycharm": {
     "name": "#%%\n"
    }
   }
  },
  {
   "cell_type": "code",
   "execution_count": 12,
   "outputs": [],
   "source": [
    "j = 3000\n",
    "predictions = classifier.predict(test_data[0:j])"
   ],
   "metadata": {
    "collapsed": false,
    "pycharm": {
     "name": "#%%\n"
    }
   }
  },
  {
   "cell_type": "code",
   "execution_count": 13,
   "outputs": [
    {
     "name": "stdout",
     "output_type": "stream",
     "text": [
      "Accuracy: 0.9516666666666667\n",
      "Sensitivity: 0.5969696969696969\n",
      "Specificity: 0.9955056179775281\n",
      "Geometric: 0.7708999202851663\n"
     ]
    }
   ],
   "source": [
    "\n",
    "\n",
    "tp, fp, fn, tn = 0, 0, 0, 0\n",
    "for pred, targ in zip(predictions, test_target[:j]):\n",
    "    if pred:\n",
    "        if targ:\n",
    "            tp += 1\n",
    "        else:\n",
    "            fp += 1\n",
    "    else:\n",
    "        if targ:\n",
    "            fn += 1\n",
    "        else:\n",
    "            tn += 1\n",
    "\n",
    "accuracy = (tp + tn) / (tn + fn + tp + fp)\n",
    "sensitivity = tp / (tp + fn)\n",
    "specificity = tn / (fp + tn)\n",
    "geometric = float(gmean([sensitivity, specificity]))\n",
    "\n",
    "stats = [accuracy, sensitivity, specificity, geometric]\n",
    "\n",
    "stat_names = ['Accuracy', 'Sensitivity', 'Specificity', 'Geometric']\n",
    "for i, name in enumerate(stat_names):\n",
    "    print(f\"{name}: {stats[i]}\")"
   ],
   "metadata": {
    "collapsed": false,
    "pycharm": {
     "name": "#%%\n"
    }
   }
  },
  {
   "cell_type": "code",
   "execution_count": 14,
   "outputs": [
    {
     "name": "stdout",
     "output_type": "stream",
     "text": [
      "1.0\n"
     ]
    },
    {
     "data": {
      "text/plain": "<matplotlib.image.AxesImage at 0x29534a070d0>"
     },
     "execution_count": 14,
     "metadata": {},
     "output_type": "execute_result"
    },
    {
     "data": {
      "text/plain": "<Figure size 432x288 with 1 Axes>",
      "image/png": "[encoded data removed]"
     },
     "metadata": {
      "needs_background": "light"
     },
     "output_type": "display_data"
    }
   ],
   "source": [
    "j, s = 0, 0\n",
    "shift = 33\n",
    "while predictions[j] != 1 or s < shift:\n",
    "    j += 1\n",
    "    s += 1\n",
    "\n",
    "img = test_data[j]\n",
    "m = np.sqrt(img.size).astype('int32')\n",
    "img = img.reshape((m, m))\n",
    "print(predictions[j])\n",
    "plt.imshow(img)"
   ],
   "metadata": {
    "collapsed": false,
    "pycharm": {
     "name": "#%%\n"
    }
   }
  },
  {
   "cell_type": "markdown",
   "source": [
    "Próba utworzenia maski"
   ],
   "metadata": {
    "collapsed": false,
    "pycharm": {
     "name": "#%% md\n"
    }
   }
  },
  {
   "cell_type": "code",
   "execution_count": 15,
   "outputs": [],
   "source": [
    "i = 7\n",
    "input_img = np.asarray(load_image(get_image_paths(data_dir)[i]))\n",
    "input_slices = get_input_features(data_images[256*256*(i-1):256*256*i])\n",
    "target_img = np.asarray(load_image(get_image_paths(target_dir)[i]))\n",
    "\n",
    "predicted_vector = classifier.predict(input_slices)"
   ],
   "metadata": {
    "collapsed": false,
    "pycharm": {
     "name": "#%%\n"
    }
   }
  },
  {
   "cell_type": "code",
   "execution_count": 16,
   "outputs": [
    {
     "data": {
      "text/plain": "5657.0"
     },
     "execution_count": 16,
     "metadata": {},
     "output_type": "execute_result"
    }
   ],
   "source": [
    "np.sum(predicted_vector)"
   ],
   "metadata": {
    "collapsed": false,
    "pycharm": {
     "name": "#%%\n"
    }
   }
  },
  {
   "cell_type": "code",
   "execution_count": 17,
   "outputs": [
    {
     "data": {
      "text/plain": "(65536,)"
     },
     "execution_count": 17,
     "metadata": {},
     "output_type": "execute_result"
    }
   ],
   "source": [
    "predicted_vector.shape"
   ],
   "metadata": {
    "collapsed": false,
    "pycharm": {
     "name": "#%%\n"
    }
   }
  },
  {
   "cell_type": "code",
   "execution_count": 18,
   "outputs": [
    {
     "data": {
      "text/plain": "<matplotlib.image.AxesImage at 0x295aa1ca700>"
     },
     "execution_count": 18,
     "metadata": {},
     "output_type": "execute_result"
    },
    {
     "data": {
      "text/plain": "<Figure size 432x288 with 1 Axes>",
      "image/png": "[encoded data removed]"
     },
     "metadata": {
      "needs_background": "light"
     },
     "output_type": "display_data"
    }
   ],
   "source": [
    "m = 256\n",
    "predicted_image = np.zeros((m, m))\n",
    "\n",
    "i = 0\n",
    "for x in range(m - slice_size + 1):\n",
    "    for y in range(m - slice_size + 1):\n",
    "        predicted_image[x, y] = predicted_vector[i]\n",
    "        i += 1\n",
    "plt.imshow(predicted_image, cmap=\"gray\")"
   ],
   "metadata": {
    "collapsed": false,
    "pycharm": {
     "name": "#%%\n"
    }
   }
  },
  {
   "cell_type": "code",
   "execution_count": 19,
   "outputs": [
    {
     "data": {
      "text/plain": "<matplotlib.image.AxesImage at 0x29534ab2160>"
     },
     "execution_count": 19,
     "metadata": {},
     "output_type": "execute_result"
    },
    {
     "data": {
      "text/plain": "<Figure size 432x288 with 1 Axes>",
      "image/png": "[encoded data removed]"
     },
     "metadata": {
      "needs_background": "light"
     },
     "output_type": "display_data"
    }
   ],
   "source": [
    "m = 256\n",
    "predicted_image = np.zeros((m, m))\n",
    "\n",
    "i = 0\n",
    "for x in range(m):\n",
    "    for y in range(m):\n",
    "        predicted_image[x, y] = predicted_vector[i]\n",
    "        i += 1\n",
    "# predicted_image = predicted_vector.reshape(m, m)\n",
    "plt.imshow(predicted_image, cmap=\"gray\")"
   ],
   "metadata": {
    "collapsed": false,
    "pycharm": {
     "name": "#%%\n"
    }
   }
  },
  {
   "cell_type": "code",
   "execution_count": 20,
   "outputs": [],
   "source": [
    "# def foo(image: np.ndarray, slice_size: int):\n",
    "#     width, height = image.shape[0], image.shape[1]\n",
    "#\n",
    "#     new_width, new_height = width+slice_size*2, height+slice_size*2\n",
    "#     new_img = np.zeros((new_width, new_height))\n",
    "#\n",
    "#     new_img[slice_size:-slice_size, slice_size:-slice_size] = image\n",
    "#\n",
    "#     slices = []\n",
    "#     for i in range(slice_size - 1, height - slice_size + 1):\n",
    "#         for j in range(slice_size - 1, width - slice_size + 1):\n",
    "#             slices.append(image[i:i+slice_size, j:j+slice_size])\n",
    "#\n",
    "#     return slices"
   ],
   "metadata": {
    "collapsed": false,
    "pycharm": {
     "name": "#%%\n"
    }
   }
  },
  {
   "cell_type": "code",
   "execution_count": 21,
   "outputs": [],
   "source": [
    "# plt.imshow(foo(cv2.resize(target_img, (256, 256)), slice_size))"
   ],
   "metadata": {
    "collapsed": false,
    "pycharm": {
     "name": "#%%\n"
    }
   }
  },
  {
   "cell_type": "code",
   "execution_count": 22,
   "outputs": [
    {
     "name": "stdout",
     "output_type": "stream",
     "text": [
      "(351384, 225)\n"
     ]
    }
   ],
   "source": [
    "train_data_images[0].shape\n",
    "features = [ft_ext.get_features(image) for image in test_data_images]\n",
    "# features = np.stack(np.asarray(features), axis=0)\n",
    "print(np.array(features).shape)\n"
   ],
   "metadata": {
    "collapsed": false,
    "pycharm": {
     "name": "#%%\n"
    }
   }
  },
  {
   "cell_type": "code",
   "execution_count": 23,
   "outputs": [
    {
     "data": {
      "text/plain": "(351384, 225)"
     },
     "execution_count": 23,
     "metadata": {},
     "output_type": "execute_result"
    }
   ],
   "source": [
    "np.array(features).shape"
   ],
   "metadata": {
    "collapsed": false,
    "pycharm": {
     "name": "#%%\n"
    }
   }
  },
  {
   "cell_type": "code",
   "execution_count": 24,
   "outputs": [],
   "source": [
    "# print(features)"
   ],
   "metadata": {
    "collapsed": false,
    "pycharm": {
     "name": "#%%\n"
    }
   }
  },
  {
   "cell_type": "code",
   "execution_count": 25,
   "outputs": [],
   "source": [
    "# np.array(features)"
   ],
   "metadata": {
    "collapsed": false,
    "pycharm": {
     "name": "#%%\n"
    }
   }
  },
  {
   "cell_type": "code",
   "execution_count": 26,
   "outputs": [],
   "source": [
    "# len(features[0])"
   ],
   "metadata": {
    "collapsed": false,
    "pycharm": {
     "name": "#%%\n"
    }
   }
  },
  {
   "cell_type": "code",
   "execution_count": 27,
   "outputs": [],
   "source": [
    "# features[0]"
   ],
   "metadata": {
    "collapsed": false,
    "pycharm": {
     "name": "#%%\n"
    }
   }
  },
  {
   "cell_type": "code",
   "execution_count": 28,
   "outputs": [],
   "source": [
    "# len(features[0])"
   ],
   "metadata": {
    "collapsed": false,
    "pycharm": {
     "name": "#%%\n"
    }
   }
  },
  {
   "cell_type": "code",
   "execution_count": 29,
   "outputs": [],
   "source": [
    "# def get_input_features_2(data_images: list) -> np.ndarray:\n",
    "#     features = [ft_ext.get_features(image) for image in data_images]\n",
    "#     features = np.stack(np.asarray(features), axis=1)[0]\n",
    "#     # features.reshape(len(data_images), features.shape[2])\n",
    "#     return features"
   ],
   "metadata": {
    "collapsed": false,
    "pycharm": {
     "name": "#%%\n"
    }
   }
  },
  {
   "cell_type": "code",
   "execution_count": 29,
   "outputs": [],
   "source": [],
   "metadata": {
    "collapsed": false,
    "pycharm": {
     "name": "#%%\n"
    }
   }
  },
  {
   "cell_type": "code",
   "execution_count": 30,
   "outputs": [],
   "source": [
    "# train_data= get_input_features_2(train_data_images)\n"
   ],
   "metadata": {
    "collapsed": false,
    "pycharm": {
     "name": "#%%\n"
    }
   }
  },
  {
   "cell_type": "markdown",
   "source": [],
   "metadata": {
    "collapsed": false,
    "pycharm": {
     "name": "#%% md\n"
    }
   }
  },
  {
   "cell_type": "code",
   "execution_count": 31,
   "outputs": [
    {
     "data": {
      "text/plain": "(1, 225)"
     },
     "execution_count": 31,
     "metadata": {},
     "output_type": "execute_result"
    }
   ],
   "source": [
    "get_input_features([data_images[33]]).shape"
   ],
   "metadata": {
    "collapsed": false,
    "pycharm": {
     "name": "#%%\n"
    }
   }
  },
  {
   "cell_type": "markdown",
   "source": [
    "Opis podejścia"
   ],
   "metadata": {
    "collapsed": false,
    "pycharm": {
     "name": "#%% md\n"
    }
   }
  }
 ],
 "metadata": {
  "kernelspec": {
   "display_name": "Python 3",
   "language": "python",
   "name": "python3"
  },
  "language_info": {
   "codemirror_mode": {
    "name": "ipython",
    "version": 2
   },
   "file_extension": ".py",
   "mimetype": "text/x-python",
   "name": "python",
   "nbconvert_exporter": "python",
   "pygments_lexer": "ipython2",
   "version": "2.7.6"
  }
 },
 "nbformat": 4,
 "nbformat_minor": 0
}