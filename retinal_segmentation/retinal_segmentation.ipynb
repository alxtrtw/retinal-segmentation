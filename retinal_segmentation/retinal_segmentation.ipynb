{
 "cells": [
  {
   "cell_type": "markdown",
   "metadata": {
    "collapsed": true,
    "pycharm": {
     "name": "#%% md\n"
    }
   },
   "source": [
    "# Retinal Segmentation"
   ]
  },
  {
   "cell_type": "markdown",
   "source": [
    "Project was implemented with three approaches: classic image processing techniques, a basic level classifier and a deep learning network."
   ],
   "metadata": {
    "collapsed": false,
    "pycharm": {
     "name": "#%% md\n"
    }
   }
  },
  {
   "cell_type": "markdown",
   "source": [
    "## Classical image processing techniques"
   ],
   "metadata": {
    "collapsed": false,
    "pycharm": {
     "name": "#%% md\n"
    }
   }
  },
  {
   "cell_type": "markdown",
   "source": [
    "Opis podejścia"
   ],
   "metadata": {
    "collapsed": false,
    "pycharm": {
     "name": "#%% md\n"
    }
   }
  },
  {
   "cell_type": "markdown",
   "source": [
    "## Basic level classifier"
   ],
   "metadata": {
    "collapsed": false,
    "pycharm": {
     "name": "#%% md\n"
    }
   }
  },
  {
   "cell_type": "markdown",
   "source": [
    "Opis podejścia"
   ],
   "metadata": {
    "collapsed": false,
    "pycharm": {
     "name": "#%% md\n"
    }
   }
  },
  {
   "cell_type": "code",
   "execution_count": 1,
   "outputs": [],
   "source": [
    "import os\n",
    "from retinal_segmentation.basic_level_classifier.knn import \\\n",
    "    load_sliced_images, get_input_features, get_target_vals, \\\n",
    "    slice_image, init_knn_classifier\n",
    "from retinal_segmentation.utils.data_loader import get_image_paths, load_image\n",
    "from sklearn.model_selection import train_test_split\n",
    "from retinal_segmentation.basic_level_classifier import \\\n",
    "    feature_extraction as ft_ext\n",
    "from scipy.stats import gmean\n",
    "import numpy as np\n",
    "import matplotlib.pyplot as plt\n"
   ],
   "metadata": {
    "collapsed": false,
    "pycharm": {
     "name": "#%%\n"
    }
   }
  },
  {
   "cell_type": "code",
   "execution_count": 2,
   "outputs": [],
   "source": [
    "data_dir, target_dir = \\\n",
    "        f\"{os.getcwd()}\\\\resource\\\\images\", \\\n",
    "        f\"{os.getcwd()}\\\\resource\\\\labels\"\n",
    "slice_size = 15\n",
    "\n",
    "data_images, target_images = load_sliced_images(data_dir, target_dir, slice_size=slice_size)"
   ],
   "metadata": {
    "collapsed": false,
    "pycharm": {
     "name": "#%%\n"
    }
   }
  },
  {
   "cell_type": "code",
   "execution_count": 3,
   "outputs": [],
   "source": [
    "train_data_images, test_data_images, train_target_images, test_target_images = \\\n",
    "        train_test_split(data_images, target_images, test_size=0.3, random_state=42)"
   ],
   "metadata": {
    "collapsed": false,
    "pycharm": {
     "name": "#%%\n"
    }
   }
  },
  {
   "cell_type": "code",
   "execution_count": 4,
   "outputs": [],
   "source": [
    "train_data, train_target = get_input_features(train_data_images), get_target_vals(train_target_images)\n",
    "test_data, test_target = get_input_features(test_data_images), get_target_vals(test_target_images)\n"
   ],
   "metadata": {
    "collapsed": false,
    "pycharm": {
     "name": "#%%\n"
    }
   }
  },
  {
   "cell_type": "code",
   "execution_count": 5,
   "outputs": [
    {
     "name": "stderr",
     "output_type": "stream",
     "text": [
      "Clipping input data to the valid range for imshow with RGB data ([0..1] for floats or [0..255] for integers).\n"
     ]
    },
    {
     "data": {
      "text/plain": "<matplotlib.image.AxesImage at 0x1a1144ba760>"
     },
     "execution_count": 5,
     "metadata": {},
     "output_type": "execute_result"
    },
    {
     "data": {
      "text/plain": "<Figure size 432x288 with 1 Axes>",
      "image/png": "[encoded data removed]"
     },
     "metadata": {
      "needs_background": "light"
     },
     "output_type": "display_data"
    }
   ],
   "source": [
    "plt.imshow(train_data_images[1])"
   ],
   "metadata": {
    "collapsed": false,
    "pycharm": {
     "name": "#%%\n"
    }
   }
  },
  {
   "cell_type": "code",
   "execution_count": 6,
   "outputs": [
    {
     "data": {
      "text/plain": "<matplotlib.image.AxesImage at 0x1a1195f6c10>"
     },
     "execution_count": 6,
     "metadata": {},
     "output_type": "execute_result"
    },
    {
     "data": {
      "text/plain": "<Figure size 432x288 with 1 Axes>",
      "image/png": "[encoded data removed]"
     },
     "metadata": {
      "needs_background": "light"
     },
     "output_type": "display_data"
    }
   ],
   "source": [
    "plt.imshow(train_target_images[1], cmap='gray')"
   ],
   "metadata": {
    "collapsed": false,
    "pycharm": {
     "name": "#%%\n"
    }
   }
  },
  {
   "cell_type": "code",
   "execution_count": 7,
   "outputs": [
    {
     "data": {
      "text/plain": "array([20.0741, 22.5011, 23.4386, 22.004 , 23.2944, 20.6491, 18.9241,\n       24.5011, 26.0723, 23.427 , 21.4174, 25.1386, 22.277 , 24.0645,\n       26.9944, 19.2203, 22.3607, 22.004 , 20.8616, 20.0741, 20.7895,\n       23.4328, 22.2165, 23.7136, 23.7136, 26.0723, 24.2828, 22.852 ,\n       24.4953, 25.7819, 21.2165, 22.577 , 20.9337, 21.7915, 21.9357,\n       22.8636, 22.2203, 23.1482, 24.7194, 23.5732, 22.7136, 25.1482,\n       24.0703, 24.9982, 22.6395, 22.7194, 22.7174, 22.8636, 23.0799,\n       22.5049, 21.0761, 22.004 , 19.3587, 20.7895, 24.2886, 22.002 ,\n       22.1424, 22.8578, 23.7174, 22.0703,  7.423 ,  7.2047,  7.0643,\n        5.7835,  7.7797,  6.996 ,  8.5672,  4.7056,  7.0643,  8.4893,\n        7.3489,  5.2027,  9.7076,  9.4913,  4.8498,  3.4931,  3.2748,\n        3.7056,  2.7777,  2.6335,  2.8498,  3.273 ,  4.2768,  2.4855,\n        5.2748,  2.7056,  3.0585,  3.9181,  5.5614,  4.9902,  3.9277,\n        3.0623,  2.5652,  3.0661,  2.7056,  2.7777,  4.1344,  3.9181,\n        3.3469,  4.2027,  3.4873,  3.4152,  4.0623,  3.4152,  3.3431,\n        2.6373,  3.2027,  3.2806,  3.0623,  2.7777,  2.4248,  4.8498,\n        3.8478,  3.2748,  4.5594,  3.3469,  3.3469,  4.4873,  2.7777,\n        3.8422,  4.6335,  2.9902,  2.8498,  1.7114,  3.5652,  2.7777,\n        4.1989,  3.2065,  3.2065,  5.421 ,  3.2786,  3.2065,  4.1344,\n        3.1306,  5.1286,  3.6393,  5.1306,  4.8518,  3.1382,  3.7777,\n        3.6373,  4.2027,  2.9902,  5.7056,  5.7777,  3.3489,  3.0623,\n        3.9201,  3.7036,  3.3489,  0.    ,  0.    ,  0.    ,  0.    ,\n        0.    ,  0.    ,  0.    ,  0.    ,  0.    ,  0.    ,  0.    ,\n        0.    ,  0.    ,  0.    ,  0.    ,  0.    ,  0.    ,  0.    ,\n        0.    ,  0.    ,  0.    ,  0.    ,  0.    ,  0.    ,  0.    ,\n        0.    ,  0.    ,  0.    ,  0.    ,  0.    ,  0.    ,  0.    ,\n        0.    ,  0.    ,  0.    ,  0.    ,  0.    ,  0.    ,  0.    ,\n        0.    ,  0.    ,  0.    ,  0.    ,  0.    ,  0.    ,  0.    ,\n        0.    ,  0.    ,  0.    ,  0.    ,  0.    ,  0.    ,  0.    ,\n        0.    ,  0.    ,  0.    ,  0.    ,  0.    ,  0.    ,  0.    ,\n        0.    ,  0.    ,  0.    ,  0.    ,  0.    ,  0.    ,  0.    ,\n        0.    ,  0.    ,  0.    ,  0.    ,  0.    ,  0.    ,  0.    ,\n        0.    ])"
     },
     "execution_count": 7,
     "metadata": {},
     "output_type": "execute_result"
    }
   ],
   "source": [
    "train_data[0]"
   ],
   "metadata": {
    "collapsed": false,
    "pycharm": {
     "name": "#%%\n"
    }
   }
  },
  {
   "cell_type": "code",
   "execution_count": 8,
   "outputs": [
    {
     "data": {
      "text/plain": "(225,)"
     },
     "execution_count": 8,
     "metadata": {},
     "output_type": "execute_result"
    }
   ],
   "source": [
    "train_data[1].shape"
   ],
   "metadata": {
    "collapsed": false,
    "pycharm": {
     "name": "#%%\n"
    }
   }
  },
  {
   "cell_type": "code",
   "execution_count": 9,
   "outputs": [
    {
     "data": {
      "text/plain": "(917504, 225)"
     },
     "execution_count": 9,
     "metadata": {},
     "output_type": "execute_result"
    }
   ],
   "source": [
    "train_data.shape"
   ],
   "metadata": {
    "collapsed": false,
    "pycharm": {
     "name": "#%%\n"
    }
   }
  },
  {
   "cell_type": "code",
   "execution_count": 10,
   "outputs": [],
   "source": [
    "# np.stack(np.asarray(train_data), axis=1)[0].shape"
   ],
   "metadata": {
    "collapsed": false,
    "pycharm": {
     "name": "#%%\n"
    }
   }
  },
  {
   "cell_type": "code",
   "execution_count": 11,
   "outputs": [],
   "source": [
    "classifier = init_knn_classifier(train_data, train_target)"
   ],
   "metadata": {
    "collapsed": false,
    "pycharm": {
     "name": "#%%\n"
    }
   }
  },
  {
   "cell_type": "code",
   "execution_count": 12,
   "outputs": [],
   "source": [
    "j = 3000\n",
    "predictions = classifier.predict(test_data[0:j])"
   ],
   "metadata": {
    "collapsed": false,
    "pycharm": {
     "name": "#%%\n"
    }
   }
  },
  {
   "cell_type": "code",
   "execution_count": 13,
   "outputs": [
    {
     "name": "stdout",
     "output_type": "stream",
     "text": [
      "Accuracy: 0.951\n",
      "Sensitivity: 0.5784313725490197\n",
      "Specificity: 0.9933184855233853\n",
      "Geometric: 0.7580016985202641\n"
     ]
    }
   ],
   "source": [
    "\n",
    "\n",
    "tp, fp, fn, tn = 0, 0, 0, 0\n",
    "for pred, targ in zip(predictions, test_target[:j]):\n",
    "    if pred:\n",
    "        if targ:\n",
    "            tp += 1\n",
    "        else:\n",
    "            fp += 1\n",
    "    else:\n",
    "        if targ:\n",
    "            fn += 1\n",
    "        else:\n",
    "            tn += 1\n",
    "\n",
    "accuracy = (tp + tn) / (tn + fn + tp + fp)\n",
    "sensitivity = tp / (tp + fn)\n",
    "specificity = tn / (fp + tn)\n",
    "geometric = float(gmean([sensitivity, specificity]))\n",
    "\n",
    "stats = [accuracy, sensitivity, specificity, geometric]\n",
    "\n",
    "stat_names = ['Accuracy', 'Sensitivity', 'Specificity', 'Geometric']\n",
    "for i, name in enumerate(stat_names):\n",
    "    print(f\"{name}: {stats[i]}\")"
   ],
   "metadata": {
    "collapsed": false,
    "pycharm": {
     "name": "#%%\n"
    }
   }
  },
  {
   "cell_type": "code",
   "execution_count": 14,
   "outputs": [
    {
     "name": "stdout",
     "output_type": "stream",
     "text": [
      "1.0\n"
     ]
    },
    {
     "data": {
      "text/plain": "<matplotlib.image.AxesImage at 0x1a1196c48b0>"
     },
     "execution_count": 14,
     "metadata": {},
     "output_type": "execute_result"
    },
    {
     "data": {
      "text/plain": "<Figure size 432x288 with 1 Axes>",
      "image/png": "[encoded data removed]"
     },
     "metadata": {
      "needs_background": "light"
     },
     "output_type": "display_data"
    }
   ],
   "source": [
    "j, s = 0, 0\n",
    "shift = 33\n",
    "while predictions[j] != 1 or s < shift:\n",
    "    j += 1\n",
    "    s += 1\n",
    "\n",
    "img = test_data[j]\n",
    "m = np.sqrt(img.size).astype('int32')\n",
    "img = img.reshape((m, m))\n",
    "print(predictions[j])\n",
    "plt.imshow(img)"
   ],
   "metadata": {
    "collapsed": false,
    "pycharm": {
     "name": "#%%\n"
    }
   }
  },
  {
   "cell_type": "markdown",
   "source": [
    "Próba utworzenia maski"
   ],
   "metadata": {
    "collapsed": false,
    "pycharm": {
     "name": "#%% md\n"
    }
   }
  },
  {
   "cell_type": "code",
   "execution_count": 31,
   "outputs": [],
   "source": [
    "i = 13\n",
    "input_img = np.asarray(load_image(get_image_paths(data_dir)[i]))\n",
    "input_slices = get_input_features(data_images[256*256*(i-1):256*256*i])\n",
    "target_img = np.asarray(load_image(get_image_paths(target_dir)[i]))\n",
    "\n",
    "predicted_vector = classifier.predict(input_slices)"
   ],
   "metadata": {
    "collapsed": false,
    "pycharm": {
     "name": "#%%\n"
    }
   }
  },
  {
   "cell_type": "code",
   "execution_count": 32,
   "outputs": [
    {
     "data": {
      "text/plain": "5471.0"
     },
     "execution_count": 32,
     "metadata": {},
     "output_type": "execute_result"
    }
   ],
   "source": [
    "np.sum(predicted_vector)"
   ],
   "metadata": {
    "collapsed": false,
    "pycharm": {
     "name": "#%%\n"
    }
   }
  },
  {
   "cell_type": "code",
   "execution_count": 33,
   "outputs": [
    {
     "data": {
      "text/plain": "(65536,)"
     },
     "execution_count": 33,
     "metadata": {},
     "output_type": "execute_result"
    }
   ],
   "source": [
    "predicted_vector.shape"
   ],
   "metadata": {
    "collapsed": false,
    "pycharm": {
     "name": "#%%\n"
    }
   }
  },
  {
   "cell_type": "code",
   "execution_count": 34,
   "outputs": [
    {
     "data": {
      "text/plain": "<matplotlib.image.AxesImage at 0x1a156381550>"
     },
     "execution_count": 34,
     "metadata": {},
     "output_type": "execute_result"
    },
    {
     "data": {
      "text/plain": "<Figure size 432x288 with 1 Axes>",
      "image/png": "[encoded data removed]"
     },
     "metadata": {
      "needs_background": "light"
     },
     "output_type": "display_data"
    }
   ],
   "source": [
    "m = 256\n",
    "predicted_image = np.zeros((m, m))\n",
    "\n",
    "i = 0\n",
    "# for x in range(m - slice_size + 1):\n",
    "#     for y in range(m - slice_size + 1):\n",
    "#         predicted_image[x, y] = predicted_vector[i]\n",
    "#         i += 1\n",
    "\n",
    "for x in range(m):\n",
    "    for y in range(m):\n",
    "        predicted_image[x, y] = predicted_vector[i]\n",
    "        i += 1\n",
    "plt.imshow(predicted_image, cmap=\"gray\")"
   ],
   "metadata": {
    "collapsed": false,
    "pycharm": {
     "name": "#%%\n"
    }
   }
  },
  {
   "cell_type": "markdown",
   "source": [
    "Opis podejścia"
   ],
   "metadata": {
    "collapsed": false,
    "pycharm": {
     "name": "#%% md\n"
    }
   }
  }
 ],
 "metadata": {
  "kernelspec": {
   "display_name": "Python 3",
   "language": "python",
   "name": "python3"
  },
  "language_info": {
   "codemirror_mode": {
    "name": "ipython",
    "version": 2
   },
   "file_extension": ".py",
   "mimetype": "text/x-python",
   "name": "python",
   "nbconvert_exporter": "python",
   "pygments_lexer": "ipython2",
   "version": "2.7.6"
  }
 },
 "nbformat": 4,
 "nbformat_minor": 0
}