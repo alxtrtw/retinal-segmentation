{
 "cells": [
  {
   "cell_type": "markdown",
   "id": "c09315d1",
   "metadata": {},
   "source": [
    "# Wykrywanie naczyń dna siatkówki oka"
   ]
  },
  {
   "cell_type": "code",
   "execution_count": null,
   "outputs": [],
   "source": [
    "from IPython.display import display\n",
    "import PIL\n",
    "from PIL import Image, ImageOps\n",
    "from tensorflow.keras.preprocessing.image import load_img\n",
    "from numpy import asarray\n",
    "import skimage\n",
    "from skimage.exposure import equalize_hist\n",
    "from skimage.filters import unsharp_mask\n",
    "from skimage.morphology import erosion, disk, square, dilation, closing\n",
    "import scipy\n",
    "from skimage import data, filters, exposure, feature\n",
    "from skimage.color import rgb2hsv, hsv2rgb, rgb2gray\n",
    "from skimage.filters.edges import convolve\n",
    "import matplotlib.pyplot as plt\n",
    "import numpy as np\n",
    "import cv2 as cv\n",
    "from scipy.stats import gmean\n",
    "from statistics import mean\n",
    "from PIL import Image, ImageChops\n",
    "import random"
   ],
   "metadata": {
    "collapsed": false,
    "pycharm": {
     "name": "#%%\n"
    }
   }
  },
  {
   "cell_type": "markdown",
   "source": [
    "## Pozyskanie przykładowych obrazów"
   ],
   "metadata": {
    "collapsed": false,
    "pycharm": {
     "name": "#%% md\n"
    }
   }
  },
  {
   "cell_type": "code",
   "execution_count": null,
   "outputs": [],
   "source": [
    "import os\n",
    "\n",
    "input_dir = f\"{os.getcwd()}/images/\"\n",
    "target_dir = f\"{os.getcwd()}/labels/\"\n",
    "\n",
    "input_img_paths = sorted(\n",
    "    [\n",
    "        os.path.join(input_dir, fname)\n",
    "        for fname in os.listdir(input_dir)\n",
    "        if fname.endswith(\".ppm\")\n",
    "    ]\n",
    ")\n",
    "target_img_paths = sorted(\n",
    "    [\n",
    "        os.path.join(target_dir, fname)\n",
    "        for fname in os.listdir(target_dir)\n",
    "        if fname.endswith(\".ppm\") and not fname.startswith(\".\")\n",
    "    ]\n",
    ")\n",
    "\n",
    "print(\"Number of samples:\", len(input_img_paths))\n",
    "\n",
    "for input_path, target_path in zip(input_img_paths[:2], target_img_paths[:2]):\n",
    "    print(input_path, \"|\", target_path)"
   ],
   "metadata": {
    "collapsed": false,
    "pycharm": {
     "name": "#%%\n"
    }
   }
  },
  {
   "cell_type": "markdown",
   "source": [
    "## Przykładowy obraz"
   ],
   "metadata": {
    "collapsed": false,
    "pycharm": {
     "name": "#%% md\n"
    }
   }
  },
  {
   "cell_type": "code",
   "execution_count": null,
   "outputs": [],
   "source": [
    "i = 6\n",
    "image = Image.open(input_img_paths[i])\n",
    "display(image.resize((256, 256)))"
   ],
   "metadata": {
    "collapsed": false,
    "pycharm": {
     "name": "#%%\n"
    }
   }
  },
  {
   "cell_type": "markdown",
   "source": [
    "## Przykładowy oczeikwany wynik"
   ],
   "metadata": {
    "collapsed": false,
    "pycharm": {
     "name": "#%% md\n"
    }
   }
  },
  {
   "cell_type": "code",
   "execution_count": null,
   "outputs": [],
   "source": [
    "img = PIL.ImageOps.autocontrast(load_img(target_img_paths[i]))\n",
    "display(img.resize((256, 256)))"
   ],
   "metadata": {
    "collapsed": false,
    "pycharm": {
     "name": "#%%\n"
    }
   }
  },
  {
   "cell_type": "markdown",
   "source": [
    "# Transformacje morfologiczne"
   ],
   "metadata": {
    "collapsed": false,
    "pycharm": {
     "name": "#%% md\n"
    }
   }
  },
  {
   "cell_type": "markdown",
   "source": [
    "Zastosowaliśmy przekształcenia morfologiczne w dwóch konfiguracjach."
   ],
   "metadata": {
    "collapsed": false,
    "pycharm": {
     "name": "#%% md\n"
    }
   }
  },
  {
   "cell_type": "code",
   "execution_count": null,
   "outputs": [],
   "source": [
    "def morph_1(img):\n",
    "    inv = ImageChops.invert(img)\n",
    "\n",
    "    img = asarray(inv)\n",
    "    img = rgb2gray(img)\n",
    "\n",
    "    img = equalize_hist(img)   # normalize histogram \n",
    "\n",
    "    img = unsharp_mask(img, radius=6, amount=3)   # sharpen\n",
    "\n",
    "    img =  dilation(skimage.feature.canny(img, sigma=3.5))\n",
    "\n",
    "    img = closing(img, disk(3))\n",
    "    \n",
    "    return img\n",
    "\n",
    "def morph_2(img):\n",
    "    img = asarray(img)\n",
    "    img = rgb2gray(img)\n",
    "\n",
    "    img2 = equalize_hist(img)   # normalize histogram \n",
    "\n",
    "    x = 4\n",
    "    kernel = np.ones((x,x),np.uint8)\n",
    "    img = cv.morphologyEx(img, cv.MORPH_OPEN, kernel)\n",
    "\n",
    "    img = filters.sobel(img) #  sobel\n",
    "\n",
    "    x = 8\n",
    "    K = np.ones([x,x])\n",
    "    K = K / sum(K)\n",
    "    img = convolve(img, K)\n",
    "\n",
    "    x = 4\n",
    "    kernel = np.ones((x,x),np.uint8)\n",
    "    img = cv.morphologyEx(img, cv.MORPH_OPEN, kernel)\n",
    "\n",
    "    img = unsharp_mask(img, radius=64, amount=8)   # sharpen\n",
    "    return img"
   ],
   "metadata": {
    "collapsed": false,
    "pycharm": {
     "name": "#%%\n"
    }
   }
  },
  {
   "cell_type": "code",
   "execution_count": null,
   "outputs": [],
   "source": [
    "stats = ['Accuracy', 'Sensitivity', 'Specificity', 'Geometric']\n",
    "\n",
    "def binary_mask(img, thresh=0.1):\n",
    "    img = img.copy()\n",
    "    img[img[:, :] > img * thresh] = 1\n",
    "    img[img[:, :] < img * thresh] = 0\n",
    "    return erosion(img, disk(2))\n",
    "\n",
    "def get_statistics(img, mask):\n",
    "    (w, h) = img.shape\n",
    "\n",
    "    tp, fp, fn, tn = 0, 0, 0, 0\n",
    "    for x in range(w):\n",
    "        for y in range(h):\n",
    "            if (img[x, y]):\n",
    "                if (mask[x, y]):\n",
    "                    tp += 1\n",
    "                else:\n",
    "                    fp += 1\n",
    "            else:\n",
    "                if (mask[x, y]):\n",
    "                    fn += 1\n",
    "                else:\n",
    "                    tn += 1\n",
    "\n",
    "    return tp, fp, fn, tn\n",
    "\n",
    "def get_metrics(img, mask, thresh=0.1):\n",
    "    img_bool = img > thresh\n",
    "    mask_bool = mask > thresh\n",
    "\n",
    "    tp, fp, fn, tn = get_statistics(img_bool, mask_bool)\n",
    "    \n",
    "    accuracy = (tp + tn) / (tn + fn + tp + fp)\n",
    "    sensitivity = tp / (tp + fn)\n",
    "    specificity = tn / (fp + tn)\n",
    "    geometric = gmean([sensitivity, specificity])\n",
    "\n",
    "    return accuracy, sensitivity, specificity, geometric\n",
    "\n",
    "def print_stats(stats, i):\n",
    "    print(f\"Image no. {i}\") \n",
    "    print(f\"Accuracy: {stats[0]}\")\n",
    "    print(f\"Sensitivity: {stats[1]}\")    \n",
    "    print(f\"Specificity: {stats[2]}\")\n",
    "    print(f\"Geometric: {stats[3]}\")"
   ],
   "metadata": {
    "collapsed": false,
    "pycharm": {
     "name": "#%%\n"
    }
   }
  },
  {
   "cell_type": "code",
   "execution_count": null,
   "outputs": [],
   "source": [
    "print(\"Segmented vessels:\")\n",
    "img = morph_1(Image.open(input_img_paths[i]))\n",
    "plt.imshow(img, cmap='gray');"
   ],
   "metadata": {
    "collapsed": false,
    "pycharm": {
     "name": "#%%\n"
    }
   }
  },
  {
   "cell_type": "code",
   "execution_count": null,
   "outputs": [],
   "source": [
    "mask = binary_mask(img)\n",
    "\n",
    "plt.imshow(load_img(input_img_paths[i]))\n",
    "plt.imshow(img * mask, cmap='Purples', alpha=0.4)\n",
    "\n",
    "stats = get_metrics(asarray(Image.open(target_img_paths[i])), mask)\n",
    "print_stats(stats, i)"
   ],
   "metadata": {
    "collapsed": false,
    "pycharm": {
     "name": "#%%\n"
    }
   }
  },
  {
   "cell_type": "code",
   "execution_count": null,
   "outputs": [],
   "source": [
    "img = morph_2(Image.open(input_img_paths[i]))\n",
    "\n",
    "print(\"Segmented vessels:\")\n",
    "plt.imshow(img, cmap='gray');"
   ],
   "metadata": {
    "collapsed": false,
    "pycharm": {
     "name": "#%%\n"
    }
   }
  },
  {
   "cell_type": "markdown",
   "source": [
    "Jak widać, wygenerowany obraz jest o wiele mniej wyraźny oraz nie pomija konturu obwodu oka, co znacząco wpływa na wyniki. Jednakże otrzymuje wyższy wynik specyficzności w porównaniu do metody poprzedniej ze względu na wykrywanie również mniejszych naczyć. Wiąże się to jednak z występowaniem artefaktów."
   ],
   "metadata": {
    "collapsed": false,
    "pycharm": {
     "name": "#%% md\n"
    }
   }
  },
  {
   "cell_type": "code",
   "execution_count": null,
   "outputs": [],
   "source": [
    "mask = binary_mask(img)\n",
    "\n",
    "\n",
    "plt.imshow(load_img(input_img_paths[i]))\n",
    "plt.imshow(img * mask, cmap='Purples', alpha=0.4)\n",
    "\n",
    "stats = get_metrics(asarray(Image.open(target_img_paths[i])), mask)\n",
    "print_stats(stats, i)"
   ],
   "metadata": {
    "collapsed": false,
    "pycharm": {
     "name": "#%%\n"
    }
   }
  },
  {
   "cell_type": "code",
   "execution_count": null,
   "outputs": [],
   "source": [
    "imgs = random.sample(range(20), 10)\n",
    "history1 = []\n",
    "history2 = []\n",
    "\n",
    "for i in imgs:\n",
    "    img = Image.open(input_img_paths[i])\n",
    "    vessels1 = morph_1(img)\n",
    "    vessels2 = morph_2(img)\n",
    "    \n",
    "    mask1 = binary_mask(vessels1)\n",
    "    mask2 = binary_mask(vessels2)\n",
    "    \n",
    "    stats1 = get_metrics(asarray(Image.open(target_img_paths[i])), mask1)\n",
    "    stats2 = get_metrics(asarray(Image.open(target_img_paths[i])), mask2)\n",
    "    \n",
    "    history1.append((stats1))\n",
    "    history2.append((stats2))\n",
    "    \n",
    "print(\"Method 1:\")\n",
    "for i, stat in enumerate(stats):\n",
    "    print(f\"  {stat}: {mean([x[i] for x in history1])}\")\n",
    "print('')\n",
    "print(\"Method 2:\")\n",
    "for i, stat in enumerate(stats):\n",
    "    print(f\"  {stat}: {mean([x[i] for x in history2])}\")"
   ],
   "metadata": {
    "collapsed": false,
    "pycharm": {
     "name": "#%%\n"
    }
   }
  }
 ],
 "metadata": {
  "kernelspec": {
   "display_name": "Python 3 (ipykernel)",
   "language": "python",
   "name": "python3"
  },
  "language_info": {
   "codemirror_mode": {
    "name": "ipython",
    "version": 3
   },
   "file_extension": ".py",
   "mimetype": "text/x-python",
   "name": "python",
   "nbconvert_exporter": "python",
   "pygments_lexer": "ipython3",
   "version": "3.10.4"
  }
 },
 "nbformat": 4,
 "nbformat_minor": 5
}